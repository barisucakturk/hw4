{
 "cells": [
  {
   "cell_type": "markdown",
   "metadata": {},
   "source": [
    "In (a) part of this question, we are supposed to make three transformations.\n",
    "Let's say that our matrix is A, which is a Hermitian.\n",
    "If we multiply A with $Q_1$ then $Q_2$,which are unitary and Householder reflectors by left-hand side, we find that\n",
    "\\begin{equation}\\n\n",
    "   Q_{2}^{*}Q_{1}^{*}A =\\n\n",
    "      \\\\begin{bmatrix}\\n\n",
    "        X & X & X  \\\\\\\\\\n\n",
    "        0 & X & X  \\\\\\\\\\n\n",
    "        0 & 0 & X\\n\n",
    "      \\\\end{bmatrix}\\n\n",
    "\\end{equation}\\n\n",
    "Then, we multiply with $Q_3$ by right-hand because we want to change top-right corner of matrix. It is easily see that matrix(Z) is converted to the form which the question asks for.(ii)\n",
    "\\begin{equation}\\n\n",
    " \\\\begin{bmatrix}\\n\n",
    "        X & X & 0 \\\\\\\\\\n\n",
    "        0 & 0 & X \\\\\\\\n\n",
    "        0 & X & X \\n\n",
    "  \\\\end{bmatrix}\\n\n",
    " \\end{equation}\\n"
   ]
  },
  {
   "cell_type": "markdown",
   "metadata": {},
   "source": [
    "In (b) part of this question, we should make just one arrangement.\n",
    "If we change second and third row of matrix M in part (a),matrix is seen that:\n",
    "\\\\begin{equation}\\n\n",
    " \\begin{bmatrix}\\n\n",
    "        X & X & 0  \\\\\\\\\\n\n",
    "        0 & 0 & X  \\\\\\\\\\n\n",
    "        0 & X & X\\n\n",
    "  \\\\end{bmatrix}\\n\n",
    "\\\\end{equation}\\n\n",
    "Thus, again with (ii), we found the desired matrix which the question asks for.\n"
   ]
  },
  {
   "cell_type": "code",
   "execution_count": null,
   "metadata": {
    "collapsed": true
   },
   "outputs": [],
   "source": [
    "In (c) part of the question, the matrix(c) is singular matrix because determinant of it is equal to 0. So,\n",
    "non-singular matrices(in here it is A) cannot be converted to singular matrices with any right or left multiplication of unitary \n",
    "matrices. So, the answer is (iii). !!!"
   ]
  }
 ],
 "metadata": {
  "kernelspec": {
   "display_name": "Octave",
   "language": "octave",
   "name": "octave"
  },
  "language_info": {
   "file_extension": ".m",
   "help_links": [
    {
     "text": "GNU Octave",
     "url": "https://www.gnu.org/software/octave/support.html"
    },
    {
     "text": "Octave Kernel",
     "url": "https://github.com/Calysto/octave_kernel"
    },
    {
     "text": "MetaKernel Magics",
     "url": "https://github.com/calysto/metakernel/blob/master/metakernel/magics/README.md"
    }
   ],
   "mimetype": "text/x-octave",
   "name": "octave",
   "version": "4.0.0"
  }
 },
 "nbformat": 4,
 "nbformat_minor": 2
}
